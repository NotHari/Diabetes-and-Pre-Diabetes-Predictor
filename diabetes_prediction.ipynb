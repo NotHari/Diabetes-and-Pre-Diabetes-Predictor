{
  "cells": [
    {
      "cell_type": "markdown",
      "metadata": {
        "id": "RVWmIYSfWoWR"
      },
      "source": [
        "Installing All Requirements"
      ]
    },
    {
      "cell_type": "code",
      "execution_count": null,
      "metadata": {
        "id": "sCTkBlCHnjxS"
      },
      "outputs": [],
      "source": [
        "!pip install pandas\n",
        "!pip install numpy \n",
        "!pip install -U scikit-learn\n",
        "!pip install seaborn\n",
        "!pip install lazypredict"
      ]
    },
    {
      "cell_type": "markdown",
      "source": [
        "Importing all the Libararies"
      ],
      "metadata": {
        "id": "pMEbMItww9rH"
      }
    },
    {
      "cell_type": "code",
      "execution_count": null,
      "metadata": {
        "id": "bbQ3EQJ3uAq-"
      },
      "outputs": [],
      "source": [
        "import pandas as pd\n",
        "import seaborn as sns\n",
        "import matplotlib.pyplot as plt\n",
        "import numpy as np\n",
        "import lazypredict\n",
        "from sklearn.model_selection import train_test_split\n",
        "from sklearn.preprocessing import StandardScaler\n",
        "from lazypredict.Supervised import LazyClassifier\n"
      ]
    },
    {
      "cell_type": "markdown",
      "metadata": {
        "id": "Z82F5ey56jEC"
      },
      "source": [
        "Reading the CSV file and saving it as a dataframe"
      ]
    },
    {
      "cell_type": "code",
      "execution_count": null,
      "metadata": {
        "id": "r8YgFQJCn_tG"
      },
      "outputs": [],
      "source": [
        "df = pd.read_csv('/content/diabetes.csv')"
      ]
    },
    {
      "cell_type": "markdown",
      "source": [
        "Using the shape method to understand the dataset"
      ],
      "metadata": {
        "id": "w1aIhk3OxUDM"
      }
    },
    {
      "cell_type": "code",
      "execution_count": null,
      "metadata": {
        "id": "shXizstCqATr",
        "colab": {
          "base_uri": "https://localhost:8080/"
        },
        "outputId": "825706c0-6c44-4b67-8aca-be8b763e911d"
      },
      "outputs": [
        {
          "output_type": "execute_result",
          "data": {
            "text/plain": [
              "(768, 9)"
            ]
          },
          "metadata": {},
          "execution_count": 77
        }
      ],
      "source": [
        "df.shape"
      ]
    },
    {
      "cell_type": "markdown",
      "source": [
        "Dropping the Outcome Column from the dataframe"
      ],
      "metadata": {
        "id": "66zRe1bUxqdu"
      }
    },
    {
      "cell_type": "code",
      "execution_count": null,
      "metadata": {
        "id": "NJ4O00bnqFAx"
      },
      "outputs": [],
      "source": [
        "X = df.drop(['Outcome'],axis=1)\n",
        "y = df['Outcome']"
      ]
    },
    {
      "cell_type": "markdown",
      "source": [
        "Created the Training and Testing Sets"
      ],
      "metadata": {
        "id": "KBzdc0HhyY0-"
      }
    },
    {
      "cell_type": "code",
      "execution_count": null,
      "metadata": {
        "id": "VOKRonqhqNqP"
      },
      "outputs": [],
      "source": [
        "X_train, X_test, y_train, y_test = train_test_split(X,y,test_size=0.3,random_state=1)\n",
        "\n",
        "print('X_train -', X_train.size)\n",
        "print('X_test -', X_test.size)\n",
        "print('y_train -', y_train.size)\n",
        "print('y_test -', y_test.size)"
      ]
    },
    {
      "cell_type": "markdown",
      "source": [
        "Data Visualisation"
      ],
      "metadata": {
        "id": "fCbyjhZ60xmp"
      }
    },
    {
      "cell_type": "code",
      "execution_count": null,
      "metadata": {
        "id": "Wpn-iyg1IU-1",
        "colab": {
          "base_uri": "https://localhost:8080/",
          "height": 718
        },
        "outputId": "5e86a946-0b3b-438c-b00e-b24b1cbf744e"
      },
      "outputs": [
        {
          "output_type": "execute_result",
          "data": {
            "text/plain": [
              "<matplotlib.axes._subplots.AxesSubplot at 0x7f579c286490>"
            ]
          },
          "metadata": {},
          "execution_count": 81
        },
        {
          "output_type": "display_data",
          "data": {
            "text/plain": [
              "<Figure size 864x864 with 1 Axes>"
            ],
            "image/png": "[encoded data removed]"
          },
          "metadata": {
            "needs_background": "light"
          }
        }
      ],
      "source": [
        "plt.figure(figsize=(12,12))\n",
        "sns.boxplot(data=df)"
      ]
    },
    {
      "cell_type": "markdown",
      "source": [
        "#Removing outliers by setting their value to the median of the attribute"
      ],
      "metadata": {
        "id": "-npANeWT1S2u"
      }
    },
    {
      "cell_type": "code",
      "execution_count": null,
      "metadata": {
        "id": "ajc2YpC63Fzo"
      },
      "outputs": [],
      "source": [
        "df[['Glucose','BloodPressure','SkinThickness','Insulin','BMI']] = df[['Glucose','BloodPressure','SkinThickness','Insulin','BMI']].replace(0,np.NaN)\n",
        "\n",
        "def median_target(var):   \n",
        "    temp = df[df[var].notnull()]\n",
        "    temp = temp[[var, 'Outcome']].groupby(['Outcome'])[[var]].median().reset_index()\n",
        "    return temp\n",
        "\n",
        "df.loc[(df['Outcome'] == 0 ) & (df['Insulin'].isnull()), 'Insulin'] = 102.5\n",
        "df.loc[(df['Outcome'] == 1 ) & (df['Insulin'].isnull()), 'Insulin'] = 169.5\n",
        "\n",
        "df.loc[(df['Outcome'] == 0 ) & (df['Glucose'].isnull()), 'Glucose'] = 107\n",
        "df.loc[(df['Outcome'] == 1 ) & (df['Glucose'].isnull()), 'Glucose'] = 140\n",
        "\n",
        "df.loc[(df['Outcome'] == 0 ) & (df['SkinThickness'].isnull()), 'SkinThickness'] = 27\n",
        "df.loc[(df['Outcome'] == 1 ) & (df['SkinThickness'].isnull()), 'SkinThickness'] = 32\n",
        "\n",
        "df.loc[(df['Outcome'] == 0 ) & (df['BloodPressure'].isnull()), 'BloodPressure'] = 70\n",
        "df.loc[(df['Outcome'] == 1 ) & (df['BloodPressure'].isnull()), 'BloodPressure'] = 74.5\n",
        "\n",
        "df.loc[(df['Outcome'] == 0 ) & (df['BMI'].isnull()), 'BMI'] = 30.1\n",
        "df.loc[(df['Outcome'] == 1 ) & (df['BMI'].isnull()), 'BMI'] = 34.3"
      ]
    },
    {
      "cell_type": "markdown",
      "source": [
        "# Defining the machine learning models that we are comparing "
      ],
      "metadata": {
        "id": "z6e1Z8Ga2oFU"
      }
    },
    {
      "cell_type": "code",
      "execution_count": null,
      "metadata": {
        "id": "JidKo2JVrmdH"
      },
      "outputs": [],
      "source": [
        "from sklearn.tree import DecisionTreeClassifier\n",
        "from sklearn import svm\n",
        "from sklearn.neighbors import KNeighborsClassifier\n",
        "from sklearn.linear_model import LogisticRegression\n",
        "from sklearn.naive_bayes import GaussianNB\n",
        "from sklearn.ensemble import RandomForestClassifier\n",
        "from sklearn.neural_network import MLPClassifier\n",
        "\n",
        "dt = DecisionTreeClassifier()\n",
        "SVM = svm.SVC()\n",
        "knn = KNeighborsClassifier(n_neighbors=15)\n",
        "lr = LogisticRegression()\n",
        "nb = GaussianNB()\n",
        "rf = RandomForestClassifier()\n",
        "nn = MLPClassifier(solver='lbfgs', alpha=1e-5,hidden_layer_sizes=(5, 2), random_state=1)"
      ]
    },
    {
      "cell_type": "markdown",
      "metadata": {
        "id": "7M42PeJt3KS2"
      },
      "source": [
        "# Decision Tree Classifier"
      ]
    },
    {
      "cell_type": "code",
      "execution_count": null,
      "metadata": {
        "id": "n3pM7FBFsH7q",
        "outputId": "a476b46d-46ff-430e-db5b-de5980779972",
        "colab": {
          "base_uri": "https://localhost:8080/",
          "height": 300
        }
      },
      "outputs": [
        {
          "output_type": "stream",
          "name": "stdout",
          "text": [
            "Testing Accuracy :  0.6883116883116883\n",
            "Testing Precision :  0.8082191780821918\n"
          ]
        },
        {
          "output_type": "display_data",
          "data": {
            "text/plain": [
              "<Figure size 432x288 with 2 Axes>"
            ],
            "image/png": "[encoded data removed]"
          },
          "metadata": {
            "needs_background": "light"
          }
        }
      ],
      "source": [
        "from sklearn.metrics import confusion_matrix\n",
        "from seaborn import heatmap\n",
        "\n",
        "dt_model = dt.fit(X_train,y_train)\n",
        "dt_prediction = dt_model.predict(X_test)\n",
        "\n",
        "cm_dt = confusion_matrix(y_test,dt_prediction)\n",
        "\n",
        "sns.heatmap(cm_dt, annot=True, cmap = 'rocket' )\n",
        "TP = cm_dt[0][0]\n",
        "TN = cm_dt[1][1]\n",
        "FN = cm_dt[1][0]\n",
        "FP = cm_dt[0][1]\n",
        "\n",
        "print('Testing Accuracy : ',(TP + TN) / (TP + TN + FP + FN))\n",
        "print('Testing Precision : ', TP/(TP+FP))"
      ]
    },
    {
      "cell_type": "markdown",
      "metadata": {
        "id": "vOyB_9ld4jzD"
      },
      "source": [
        "# Logistic Regression"
      ]
    },
    {
      "cell_type": "code",
      "execution_count": null,
      "metadata": {
        "id": "Qtd6RIW6sY7f",
        "outputId": "5498005f-4cf4-4c18-8e63-e21e3846badb",
        "colab": {
          "base_uri": "https://localhost:8080/",
          "height": 300
        }
      },
      "outputs": [
        {
          "output_type": "stream",
          "name": "stdout",
          "text": [
            "Testing Accuracy :  0.7835497835497836\n",
            "Testing Precision :  0.9041095890410958\n"
          ]
        },
        {
          "output_type": "display_data",
          "data": {
            "text/plain": [
              "<Figure size 432x288 with 2 Axes>"
            ],
            "image/png": "[encoded data removed]"
          },
          "metadata": {
            "needs_background": "light"
          }
        }
      ],
      "source": [
        "lr_model = lr.fit(X_train,y_train)\n",
        "lr_prediction = lr_model.predict(X_test)\n",
        "\n",
        "cm_lr = confusion_matrix(y_test,lr_prediction)\n",
        "\n",
        "sns.heatmap(cm_lr, annot=True, cmap = 'rocket' )\n",
        "TP = cm_lr[0][0]\n",
        "TN = cm_lr[1][1]\n",
        "FN = cm_lr[1][0]\n",
        "FP = cm_lr[0][1]\n",
        "\n",
        "print('Testing Accuracy : ',(TP + TN) / (TP + TN + FP + FN))\n",
        "print('Testing Precision : ', TP/(TP+FP))"
      ]
    },
    {
      "cell_type": "markdown",
      "metadata": {
        "id": "CA-p04sT6QWn"
      },
      "source": [
        "# Support Vector Machine"
      ]
    },
    {
      "cell_type": "code",
      "execution_count": null,
      "metadata": {
        "colab": {
          "base_uri": "https://localhost:8080/",
          "height": 300
        },
        "id": "BP1QtnAh6dD9",
        "outputId": "1c9270c2-d9cd-4275-eacb-a2e88a5dab38"
      },
      "outputs": [
        {
          "output_type": "stream",
          "name": "stdout",
          "text": [
            "Testing Accuracy :  0.7705627705627706\n",
            "Testing Precision :  0.9452054794520548\n"
          ]
        },
        {
          "output_type": "display_data",
          "data": {
            "text/plain": [
              "<Figure size 432x288 with 2 Axes>"
            ],
            "image/png": "[encoded data removed]"
          },
          "metadata": {
            "needs_background": "light"
          }
        }
      ],
      "source": [
        "svm_model = SVM.fit(X_train,y_train)\n",
        "svm_prediction = svm_model.predict(X_test)\n",
        "\n",
        "cm_svm = confusion_matrix(y_test,svm_prediction)\n",
        "\n",
        "sns.heatmap(cm_svm, annot=True, cmap = 'rocket' )\n",
        "TP = cm_svm[0][0]\n",
        "TN = cm_svm[1][1]\n",
        "FN = cm_svm[1][0]\n",
        "FP = cm_svm[0][1]\n",
        "\n",
        "print('Testing Accuracy : ',(TP + TN) / (TP + TN + FP + FN))\n",
        "print('Testing Precision : ', TP/(TP+FP))\n",
        "\n"
      ]
    },
    {
      "cell_type": "markdown",
      "metadata": {
        "id": "DaMsZled9HKn"
      },
      "source": [
        "# k-Nearest Neighbor Algorithm"
      ]
    },
    {
      "cell_type": "code",
      "execution_count": null,
      "metadata": {
        "colab": {
          "base_uri": "https://localhost:8080/",
          "height": 300
        },
        "id": "ENNr3AXW65_L",
        "outputId": "8b421810-7014-4c11-eb85-9c86eba2f17b"
      },
      "outputs": [
        {
          "output_type": "stream",
          "name": "stdout",
          "text": [
            "Testing Accuracy :  0.7878787878787878\n",
            "Testing Precision :  0.9315068493150684\n"
          ]
        },
        {
          "output_type": "display_data",
          "data": {
            "text/plain": [
              "<Figure size 432x288 with 2 Axes>"
            ],
            "image/png": "[encoded data removed]"
          },
          "metadata": {
            "needs_background": "light"
          }
        }
      ],
      "source": [
        "knn_model = knn.fit(X_train,y_train)\n",
        "knn_prediction = knn_model.predict(X_test)\n",
        "\n",
        "cm_knn = confusion_matrix(y_test,knn_prediction)\n",
        "\n",
        "sns.heatmap(cm_knn, annot=True, cmap = 'rocket' )\n",
        "TP = cm_knn[0][0]\n",
        "TN = cm_knn[1][1]\n",
        "FN = cm_knn[1][0]\n",
        "FP = cm_knn[0][1]\n",
        "\n",
        "print('Testing Accuracy : ',(TP + TN) / (TP + TN + FP + FN))\n",
        "print('Testing Precision : ', TP/(TP+FP))\n",
        "\n",
        "\n"
      ]
    },
    {
      "cell_type": "markdown",
      "metadata": {
        "id": "Rbw5wsxo94Q0"
      },
      "source": [
        "# Gaussian Naive Bayes Algorithm\n"
      ]
    },
    {
      "cell_type": "code",
      "execution_count": null,
      "metadata": {
        "colab": {
          "base_uri": "https://localhost:8080/",
          "height": 300
        },
        "id": "Xf22Rdtb-Np4",
        "outputId": "6110af90-bd2f-4016-ed9d-4b092f609c28"
      },
      "outputs": [
        {
          "output_type": "stream",
          "name": "stdout",
          "text": [
            "Testing Accuracy :  0.7835497835497836\n",
            "Testing Precision :  0.8767123287671232\n"
          ]
        },
        {
          "output_type": "display_data",
          "data": {
            "text/plain": [
              "<Figure size 432x288 with 2 Axes>"
            ],
            "image/png": "[encoded data removed]"
          },
          "metadata": {
            "needs_background": "light"
          }
        }
      ],
      "source": [
        "nb_model = nb.fit(X_train,y_train)\n",
        "nb_prediction = nb_model.predict(X_test)\n",
        "\n",
        "cm_nb = confusion_matrix(y_test,nb_prediction)\n",
        "\n",
        "sns.heatmap(cm_nb, annot=True, cmap = 'rocket' )\n",
        "TP = cm_nb[0][0]\n",
        "TN = cm_nb[1][1]\n",
        "FN = cm_nb[1][0]\n",
        "FP = cm_nb[0][1]\n",
        "\n",
        "print('Testing Accuracy : ',(TP + TN) / (TP + TN + FP + FN))\n",
        "print('Testing Precision : ', TP/(TP+FP))"
      ]
    },
    {
      "cell_type": "markdown",
      "metadata": {
        "id": "aCX6fua9-AsZ"
      },
      "source": [
        "# Random Forest Classifier"
      ]
    },
    {
      "cell_type": "code",
      "execution_count": null,
      "metadata": {
        "colab": {
          "base_uri": "https://localhost:8080/",
          "height": 300
        },
        "id": "tI4WgjHQ-OBV",
        "outputId": "b30cbfb0-2a1f-45ba-8c89-e6858dc12f66"
      },
      "outputs": [
        {
          "output_type": "stream",
          "name": "stdout",
          "text": [
            "Testing Accuracy :  0.7835497835497836\n",
            "Testing Precision :  0.8835616438356164\n"
          ]
        },
        {
          "output_type": "display_data",
          "data": {
            "text/plain": [
              "<Figure size 432x288 with 2 Axes>"
            ],
            "image/png": "[encoded data removed]"
          },
          "metadata": {
            "needs_background": "light"
          }
        }
      ],
      "source": [
        "rf_model = rf.fit(X_train,y_train)\n",
        "rf_prediction = rf_model.predict(X_test)\n",
        "\n",
        "cm_rf = confusion_matrix(y_test,rf_prediction)\n",
        "\n",
        "sns.heatmap(cm_rf, annot=True, cmap = 'rocket' )\n",
        "TP = cm_rf[0][0]\n",
        "TN = cm_rf[1][1]\n",
        "FN = cm_rf[1][0]\n",
        "FP = cm_rf[0][1]\n",
        "\n",
        "print('Testing Accuracy : ',(TP + TN) / (TP + TN + FP + FN))\n",
        "print('Testing Precision : ', TP/(TP+FP))\n"
      ]
    },
    {
      "cell_type": "markdown",
      "metadata": {
        "id": "zkn5Cbjm-A4f"
      },
      "source": [
        "# Neural Network"
      ]
    },
    {
      "cell_type": "code",
      "execution_count": null,
      "metadata": {
        "colab": {
          "base_uri": "https://localhost:8080/",
          "height": 300
        },
        "id": "vddqI09G-OPk",
        "outputId": "e16be4b3-53b6-42f6-9d94-802b862127e1"
      },
      "outputs": [
        {
          "output_type": "stream",
          "name": "stdout",
          "text": [
            "Testing Accuracy :  0.6060606060606061\n",
            "Testing Precision :  0.952054794520548\n"
          ]
        },
        {
          "output_type": "display_data",
          "data": {
            "text/plain": [
              "<Figure size 432x288 with 2 Axes>"
            ],
            "image/png": "[encoded data removed]"
          },
          "metadata": {
            "needs_background": "light"
          }
        }
      ],
      "source": [
        "nn_model = nn.fit(X_train,y_train)\n",
        "nn_prediction = nn_model.predict(X_test)\n",
        "\n",
        "cm_nn = confusion_matrix(y_test,nn_prediction)\n",
        "\n",
        "sns.heatmap(cm_nn, annot=True, cmap = 'rocket' )\n",
        "TP = cm_nn[0][0]\n",
        "TN = cm_nn[1][1]\n",
        "FN = cm_nn[1][0]\n",
        "FP = cm_nn[0][1]\n",
        "\n",
        "print('Testing Accuracy : ',(TP + TN) / (TP + TN + FP + FN))\n",
        "print('Testing Precision : ', TP/(TP+FP))"
      ]
    },
    {
      "cell_type": "markdown",
      "source": [
        "# Semi-Automation of Unit Testing using LazyPredict Library"
      ],
      "metadata": {
        "id": "EP42y4Rg3V5p"
      }
    },
    {
      "cell_type": "code",
      "execution_count": null,
      "metadata": {
        "colab": {
          "base_uri": "https://localhost:8080/"
        },
        "id": "UMiUc8oe_PmI",
        "outputId": "0971edd4-1a33-4e73-d091-fa0c4ca10095"
      },
      "outputs": [
        {
          "output_type": "stream",
          "name": "stderr",
          "text": [
            "100%|██████████| 29/29 [00:01<00:00, 19.89it/s]"
          ]
        },
        {
          "output_type": "stream",
          "name": "stdout",
          "text": [
            "/n\n",
            "                               Accuracy  Balanced Accuracy  ROC AUC  F1 Score  \\\n",
            "Model                                                                           \n",
            "RandomForestClassifier             0.81               0.78     0.78      0.81   \n",
            "NearestCentroid                    0.78               0.78     0.78      0.78   \n",
            "KNeighborsClassifier               0.79               0.76     0.76      0.79   \n",
            "BaggingClassifier                  0.80               0.76     0.76      0.79   \n",
            "ExtraTreesClassifier               0.78               0.75     0.75      0.78   \n",
            "GaussianNB                         0.78               0.75     0.75      0.78   \n",
            "SVC                                0.79               0.75     0.75      0.78   \n",
            "BernoulliNB                        0.76               0.75     0.75      0.76   \n",
            "AdaBoostClassifier                 0.78               0.74     0.74      0.78   \n",
            "LinearDiscriminantAnalysis         0.78               0.74     0.74      0.78   \n",
            "NuSVC                              0.78               0.74     0.74      0.78   \n",
            "LogisticRegression                 0.78               0.74     0.74      0.78   \n",
            "LinearSVC                          0.78               0.74     0.74      0.78   \n",
            "RidgeClassifier                    0.78               0.73     0.73      0.77   \n",
            "RidgeClassifierCV                  0.78               0.73     0.73      0.77   \n",
            "CalibratedClassifierCV             0.78               0.73     0.73      0.77   \n",
            "LGBMClassifier                     0.77               0.73     0.73      0.76   \n",
            "XGBClassifier                      0.77               0.73     0.73      0.76   \n",
            "QuadraticDiscriminantAnalysis      0.75               0.72     0.72      0.75   \n",
            "ExtraTreeClassifier                0.71               0.69     0.69      0.71   \n",
            "LabelSpreading                     0.72               0.68     0.68      0.72   \n",
            "LabelPropagation                   0.72               0.68     0.68      0.72   \n",
            "SGDClassifier                      0.73               0.67     0.67      0.71   \n",
            "DecisionTreeClassifier             0.71               0.66     0.66      0.70   \n",
            "PassiveAggressiveClassifier        0.70               0.63     0.63      0.67   \n",
            "Perceptron                         0.59               0.52     0.52      0.57   \n",
            "DummyClassifier                    0.53               0.49     0.49      0.53   \n",
            "\n",
            "                               Time Taken  \n",
            "Model                                      \n",
            "RandomForestClassifier               0.25  \n",
            "NearestCentroid                      0.02  \n",
            "KNeighborsClassifier                 0.02  \n",
            "BaggingClassifier                    0.05  \n",
            "ExtraTreesClassifier                 0.18  \n",
            "GaussianNB                           0.02  \n",
            "SVC                                  0.03  \n",
            "BernoulliNB                          0.02  \n",
            "AdaBoostClassifier                   0.15  \n",
            "LinearDiscriminantAnalysis           0.03  \n",
            "NuSVC                                0.03  \n",
            "LogisticRegression                   0.03  \n",
            "LinearSVC                            0.05  \n",
            "RidgeClassifier                      0.02  \n",
            "RidgeClassifierCV                    0.02  \n",
            "CalibratedClassifierCV               0.12  \n",
            "LGBMClassifier                       0.09  \n",
            "XGBClassifier                        0.09  \n",
            "QuadraticDiscriminantAnalysis        0.02  \n",
            "ExtraTreeClassifier                  0.02  \n",
            "LabelSpreading                       0.05  \n",
            "LabelPropagation                     0.04  \n",
            "SGDClassifier                        0.02  \n",
            "DecisionTreeClassifier               0.02  \n",
            "PassiveAggressiveClassifier          0.02  \n",
            "Perceptron                           0.02  \n",
            "DummyClassifier                      0.02  \n"
          ]
        },
        {
          "output_type": "stream",
          "name": "stderr",
          "text": [
            "\n"
          ]
        }
      ],
      "source": [
        "clf = LazyClassifier(verbose=0, ignore_warnings=True, custom_metric = None)\n",
        "models,predictions = clf.fit(X_train, X_test, y_train, y_test)\n",
        "print(\"/n\")\n",
        "print(models)"
      ]
    },
    {
      "cell_type": "markdown",
      "source": [
        "# Result Visualisation"
      ],
      "metadata": {
        "id": "baJ2yOKe3gb_"
      }
    },
    {
      "cell_type": "code",
      "execution_count": null,
      "metadata": {
        "colab": {
          "base_uri": "https://localhost:8080/",
          "height": 350
        },
        "id": "orQwle-wQD8j",
        "outputId": "f1a9ccc8-efd3-44d9-c527-e0027ea48407"
      },
      "outputs": [
        {
          "output_type": "display_data",
          "data": {
            "text/plain": [
              "<Figure size 720x360 with 1 Axes>"
            ],
            "image/png": "[encoded data removed]"
          },
          "metadata": {
            "needs_background": "light"
          }
        }
      ],
      "source": [
        "import matplotlib.pyplot as plt\n",
        "\n",
        "data = {'RFC':0.81 , 'NearestCentroid  ': 0.78, 'KNN':0.79 ,\n",
        "        'BClassifier ':0.80,'ETClassifier':  0.78 ,'GNB':0.78,'SVC' : 0.79   }\n",
        "courses = list(data.keys())\n",
        "values = list(data.values())\n",
        "  \n",
        "fig = plt.figure(figsize = (10, 5))\n",
        " \n",
        "# creating the bar plot\n",
        "plt.bar(courses, values, color ='coral',\n",
        "        width = 0.5)\n",
        " \n",
        "plt.xlabel(\"Machine Learning Models\")\n",
        "plt.ylabel(\"Accuracy\")\n",
        "plt.title(\"Results from Lazy Classifier\")\n",
        "plt.show()\n"
      ]
    },
    {
      "cell_type": "markdown",
      "source": [
        "Pickling the Model"
      ],
      "metadata": {
        "id": "3TZB4Dxm3i8r"
      }
    },
    {
      "cell_type": "code",
      "source": [
        "import pickle\n",
        "\n",
        "# save the model\n",
        "pickle.dump(rf_model, open('model_rfc.pkl', 'wb'))"
      ],
      "metadata": {
        "id": "BZgHCyMlbI6P"
      },
      "execution_count": null,
      "outputs": []
    }
  ],
  "metadata": {
    "colab": {
      "collapsed_sections": [],
      "name": "diabetes-prediction.ipynb",
      "provenance": []
    },
    "kernelspec": {
      "display_name": "Python 3",
      "name": "python3"
    },
    "language_info": {
      "name": "python"
    }
  },
  "nbformat": 4,
  "nbformat_minor": 0
}