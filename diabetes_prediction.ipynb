{
  "cells": [
    {
      "cell_type": "markdown",
      "metadata": {
        "id": "RVWmIYSfWoWR"
      },
      "source": [
        "Installing All Requirements"
      ]
    },
    {
      "cell_type": "code",
      "execution_count": null,
      "metadata": {
        "id": "sCTkBlCHnjxS",
        "colab": {
          "base_uri": "https://localhost:8080/",
          "height": 1000
        },
        "outputId": "911e5973-5a3d-42e1-deee-91f62e7cd8f6"
      },
      "outputs": [
        {
          "output_type": "stream",
          "name": "stdout",
          "text": [
            "Requirement already satisfied: pandas in /usr/local/lib/python3.7/dist-packages (1.3.5)\n",
            "Requirement already satisfied: numpy>=1.17.3 in /usr/local/lib/python3.7/dist-packages (from pandas) (1.21.6)\n",
            "Requirement already satisfied: python-dateutil>=2.7.3 in /usr/local/lib/python3.7/dist-packages (from pandas) (2.8.2)\n",
            "Requirement already satisfied: pytz>=2017.3 in /usr/local/lib/python3.7/dist-packages (from pandas) (2022.1)\n",
            "Requirement already satisfied: six>=1.5 in /usr/local/lib/python3.7/dist-packages (from python-dateutil>=2.7.3->pandas) (1.15.0)\n",
            "Requirement already satisfied: numpy in /usr/local/lib/python3.7/dist-packages (1.21.6)\n",
            "Requirement already satisfied: scikit-learn in /usr/local/lib/python3.7/dist-packages (1.0.2)\n",
            "Requirement already satisfied: numpy>=1.14.6 in /usr/local/lib/python3.7/dist-packages (from scikit-learn) (1.21.6)\n",
            "Requirement already satisfied: joblib>=0.11 in /usr/local/lib/python3.7/dist-packages (from scikit-learn) (1.1.0)\n",
            "Requirement already satisfied: scipy>=1.1.0 in /usr/local/lib/python3.7/dist-packages (from scikit-learn) (1.4.1)\n",
            "Requirement already satisfied: threadpoolctl>=2.0.0 in /usr/local/lib/python3.7/dist-packages (from scikit-learn) (3.1.0)\n",
            "Requirement already satisfied: seaborn in /usr/local/lib/python3.7/dist-packages (0.11.2)\n",
            "Requirement already satisfied: numpy>=1.15 in /usr/local/lib/python3.7/dist-packages (from seaborn) (1.21.6)\n",
            "Requirement already satisfied: pandas>=0.23 in /usr/local/lib/python3.7/dist-packages (from seaborn) (1.3.5)\n",
            "Requirement already satisfied: scipy>=1.0 in /usr/local/lib/python3.7/dist-packages (from seaborn) (1.4.1)\n",
            "Requirement already satisfied: matplotlib>=2.2 in /usr/local/lib/python3.7/dist-packages (from seaborn) (3.2.2)\n",
            "Requirement already satisfied: python-dateutil>=2.1 in /usr/local/lib/python3.7/dist-packages (from matplotlib>=2.2->seaborn) (2.8.2)\n",
            "Requirement already satisfied: cycler>=0.10 in /usr/local/lib/python3.7/dist-packages (from matplotlib>=2.2->seaborn) (0.11.0)\n",
            "Requirement already satisfied: kiwisolver>=1.0.1 in /usr/local/lib/python3.7/dist-packages (from matplotlib>=2.2->seaborn) (1.4.2)\n",
            "Requirement already satisfied: pyparsing!=2.0.4,!=2.1.2,!=2.1.6,>=2.0.1 in /usr/local/lib/python3.7/dist-packages (from matplotlib>=2.2->seaborn) (3.0.8)\n",
            "Requirement already satisfied: typing-extensions in /usr/local/lib/python3.7/dist-packages (from kiwisolver>=1.0.1->matplotlib>=2.2->seaborn) (4.1.1)\n",
            "Requirement already satisfied: pytz>=2017.3 in /usr/local/lib/python3.7/dist-packages (from pandas>=0.23->seaborn) (2022.1)\n",
            "Requirement already satisfied: six>=1.5 in /usr/local/lib/python3.7/dist-packages (from python-dateutil>=2.1->matplotlib>=2.2->seaborn) (1.15.0)\n",
            "Collecting lazypredict\n",
            "  Downloading lazypredict-0.2.9-py2.py3-none-any.whl (12 kB)\n",
            "Collecting PyYAML==5.3.1\n",
            "  Downloading PyYAML-5.3.1.tar.gz (269 kB)\n",
            "\u001b[K     |████████████████████████████████| 269 kB 8.2 MB/s \n",
            "\u001b[?25hCollecting tqdm==4.56.0\n",
            "  Downloading tqdm-4.56.0-py2.py3-none-any.whl (72 kB)\n",
            "\u001b[K     |████████████████████████████████| 72 kB 842 kB/s \n",
            "\u001b[?25hCollecting scikit-learn==0.23.1\n",
            "  Downloading scikit_learn-0.23.1-cp37-cp37m-manylinux1_x86_64.whl (6.8 MB)\n",
            "\u001b[K     |████████████████████████████████| 6.8 MB 39.4 MB/s \n",
            "\u001b[?25hCollecting pandas==1.0.5\n",
            "  Downloading pandas-1.0.5-cp37-cp37m-manylinux1_x86_64.whl (10.1 MB)\n",
            "\u001b[K     |████████████████████████████████| 10.1 MB 39.8 MB/s \n",
            "\u001b[?25hCollecting numpy==1.19.1\n",
            "  Downloading numpy-1.19.1-cp37-cp37m-manylinux2010_x86_64.whl (14.5 MB)\n",
            "\u001b[K     |████████████████████████████████| 14.5 MB 15 kB/s \n",
            "\u001b[?25hCollecting scipy==1.5.4\n",
            "  Downloading scipy-1.5.4-cp37-cp37m-manylinux1_x86_64.whl (25.9 MB)\n",
            "\u001b[K     |████████████████████████████████| 25.9 MB 2.5 MB/s \n",
            "\u001b[?25hCollecting lightgbm==2.3.1\n",
            "  Downloading lightgbm-2.3.1-py2.py3-none-manylinux1_x86_64.whl (1.2 MB)\n",
            "\u001b[K     |████████████████████████████████| 1.2 MB 44.7 MB/s \n",
            "\u001b[?25hCollecting joblib==1.0.0\n",
            "  Downloading joblib-1.0.0-py3-none-any.whl (302 kB)\n",
            "\u001b[K     |████████████████████████████████| 302 kB 13.8 MB/s \n",
            "\u001b[?25hCollecting xgboost==1.1.1\n",
            "  Downloading xgboost-1.1.1-py3-none-manylinux2010_x86_64.whl (127.6 MB)\n",
            "\u001b[K     |████████████████████████████████| 127.6 MB 19 kB/s \n",
            "\u001b[?25hRequirement already satisfied: six==1.15.0 in /usr/local/lib/python3.7/dist-packages (from lazypredict) (1.15.0)\n",
            "Collecting pytest==5.4.3\n",
            "  Downloading pytest-5.4.3-py3-none-any.whl (248 kB)\n",
            "\u001b[K     |████████████████████████████████| 248 kB 67.2 MB/s \n",
            "\u001b[?25hRequirement already satisfied: click==7.1.2 in /usr/local/lib/python3.7/dist-packages (from lazypredict) (7.1.2)\n",
            "Requirement already satisfied: pytz>=2017.2 in /usr/local/lib/python3.7/dist-packages (from pandas==1.0.5->lazypredict) (2022.1)\n",
            "Requirement already satisfied: python-dateutil>=2.6.1 in /usr/local/lib/python3.7/dist-packages (from pandas==1.0.5->lazypredict) (2.8.2)\n",
            "Collecting pluggy<1.0,>=0.12\n",
            "  Downloading pluggy-0.13.1-py2.py3-none-any.whl (18 kB)\n",
            "Requirement already satisfied: wcwidth in /usr/local/lib/python3.7/dist-packages (from pytest==5.4.3->lazypredict) (0.2.5)\n",
            "Requirement already satisfied: packaging in /usr/local/lib/python3.7/dist-packages (from pytest==5.4.3->lazypredict) (21.3)\n",
            "Requirement already satisfied: importlib-metadata>=0.12 in /usr/local/lib/python3.7/dist-packages (from pytest==5.4.3->lazypredict) (4.11.3)\n",
            "Requirement already satisfied: more-itertools>=4.0.0 in /usr/local/lib/python3.7/dist-packages (from pytest==5.4.3->lazypredict) (8.12.0)\n",
            "Requirement already satisfied: attrs>=17.4.0 in /usr/local/lib/python3.7/dist-packages (from pytest==5.4.3->lazypredict) (21.4.0)\n",
            "Requirement already satisfied: py>=1.5.0 in /usr/local/lib/python3.7/dist-packages (from pytest==5.4.3->lazypredict) (1.11.0)\n",
            "Requirement already satisfied: threadpoolctl>=2.0.0 in /usr/local/lib/python3.7/dist-packages (from scikit-learn==0.23.1->lazypredict) (3.1.0)\n",
            "Requirement already satisfied: zipp>=0.5 in /usr/local/lib/python3.7/dist-packages (from importlib-metadata>=0.12->pytest==5.4.3->lazypredict) (3.8.0)\n",
            "Requirement already satisfied: typing-extensions>=3.6.4 in /usr/local/lib/python3.7/dist-packages (from importlib-metadata>=0.12->pytest==5.4.3->lazypredict) (4.1.1)\n",
            "Requirement already satisfied: pyparsing!=3.0.5,>=2.0.2 in /usr/local/lib/python3.7/dist-packages (from packaging->pytest==5.4.3->lazypredict) (3.0.8)\n",
            "Building wheels for collected packages: PyYAML\n",
            "  Building wheel for PyYAML (setup.py) ... \u001b[?25l\u001b[?25hdone\n",
            "  Created wheel for PyYAML: filename=PyYAML-5.3.1-cp37-cp37m-linux_x86_64.whl size=44636 sha256=82cca9e82b826bf79ec58781e5fd099489b262217ac593979900c5ead217de16\n",
            "  Stored in directory: /root/.cache/pip/wheels/5e/03/1e/e1e954795d6f35dfc7b637fe2277bff021303bd9570ecea653\n",
            "Successfully built PyYAML\n",
            "Installing collected packages: numpy, scipy, joblib, scikit-learn, pluggy, xgboost, tqdm, PyYAML, pytest, pandas, lightgbm, lazypredict\n",
            "  Attempting uninstall: numpy\n",
            "    Found existing installation: numpy 1.21.6\n",
            "    Uninstalling numpy-1.21.6:\n",
            "      Successfully uninstalled numpy-1.21.6\n",
            "  Attempting uninstall: scipy\n",
            "    Found existing installation: scipy 1.4.1\n",
            "    Uninstalling scipy-1.4.1:\n",
            "      Successfully uninstalled scipy-1.4.1\n",
            "  Attempting uninstall: joblib\n",
            "    Found existing installation: joblib 1.1.0\n",
            "    Uninstalling joblib-1.1.0:\n",
            "      Successfully uninstalled joblib-1.1.0\n",
            "  Attempting uninstall: scikit-learn\n",
            "    Found existing installation: scikit-learn 1.0.2\n",
            "    Uninstalling scikit-learn-1.0.2:\n",
            "      Successfully uninstalled scikit-learn-1.0.2\n",
            "  Attempting uninstall: pluggy\n",
            "    Found existing installation: pluggy 0.7.1\n",
            "    Uninstalling pluggy-0.7.1:\n",
            "      Successfully uninstalled pluggy-0.7.1\n",
            "  Attempting uninstall: xgboost\n",
            "    Found existing installation: xgboost 0.90\n",
            "    Uninstalling xgboost-0.90:\n",
            "      Successfully uninstalled xgboost-0.90\n",
            "  Attempting uninstall: tqdm\n",
            "    Found existing installation: tqdm 4.64.0\n",
            "    Uninstalling tqdm-4.64.0:\n",
            "      Successfully uninstalled tqdm-4.64.0\n",
            "  Attempting uninstall: PyYAML\n",
            "    Found existing installation: PyYAML 3.13\n",
            "    Uninstalling PyYAML-3.13:\n",
            "      Successfully uninstalled PyYAML-3.13\n",
            "  Attempting uninstall: pytest\n",
            "    Found existing installation: pytest 3.6.4\n",
            "    Uninstalling pytest-3.6.4:\n",
            "      Successfully uninstalled pytest-3.6.4\n",
            "  Attempting uninstall: pandas\n",
            "    Found existing installation: pandas 1.3.5\n",
            "    Uninstalling pandas-1.3.5:\n",
            "      Successfully uninstalled pandas-1.3.5\n",
            "  Attempting uninstall: lightgbm\n",
            "    Found existing installation: lightgbm 2.2.3\n",
            "    Uninstalling lightgbm-2.2.3:\n",
            "      Successfully uninstalled lightgbm-2.2.3\n",
            "\u001b[31mERROR: pip's dependency resolver does not currently take into account all the packages that are installed. This behaviour is the source of the following dependency conflicts.\n",
            "tensorflow 2.8.0 requires tf-estimator-nightly==2.8.0.dev2021122109, which is not installed.\n",
            "yellowbrick 1.4 requires scikit-learn>=1.0.0, but you have scikit-learn 0.23.1 which is incompatible.\n",
            "tensorflow 2.8.0 requires numpy>=1.20, but you have numpy 1.19.1 which is incompatible.\n",
            "imbalanced-learn 0.8.1 requires scikit-learn>=0.24, but you have scikit-learn 0.23.1 which is incompatible.\n",
            "google-colab 1.0.0 requires pandas>=1.1.0; python_version >= \"3.0\", but you have pandas 1.0.5 which is incompatible.\n",
            "datascience 0.10.6 requires folium==0.2.1, but you have folium 0.8.3 which is incompatible.\n",
            "albumentations 0.1.12 requires imgaug<0.2.7,>=0.2.5, but you have imgaug 0.2.9 which is incompatible.\u001b[0m\n",
            "Successfully installed PyYAML-5.3.1 joblib-1.0.0 lazypredict-0.2.9 lightgbm-2.3.1 numpy-1.19.1 pandas-1.0.5 pluggy-0.13.1 pytest-5.4.3 scikit-learn-0.23.1 scipy-1.5.4 tqdm-4.56.0 xgboost-1.1.1\n"
          ]
        },
        {
          "output_type": "display_data",
          "data": {
            "application/vnd.colab-display-data+json": {
              "pip_warning": {
                "packages": [
                  "numpy"
                ]
              }
            }
          },
          "metadata": {}
        }
      ],
      "source": [
        "!pip install pandas\n",
        "!pip install numpy \n",
        "!pip install -U scikit-learn\n",
        "!pip install seaborn\n",
        "!pip install lazypredict"
      ]
    },
    {
      "cell_type": "markdown",
      "source": [
        "Importing all the Libararies"
      ],
      "metadata": {
        "id": "pMEbMItww9rH"
      }
    },
    {
      "cell_type": "code",
      "execution_count": null,
      "metadata": {
        "id": "bbQ3EQJ3uAq-",
        "colab": {
          "base_uri": "https://localhost:8080/"
        },
        "outputId": "266d56fa-2e7e-45b5-bac3-3aa08aba5015"
      },
      "outputs": [
        {
          "output_type": "stream",
          "name": "stderr",
          "text": [
            "/usr/local/lib/python3.7/dist-packages/sklearn/utils/deprecation.py:143: FutureWarning: The sklearn.utils.testing module is  deprecated in version 0.22 and will be removed in version 0.24. The corresponding classes / functions should instead be imported from sklearn.utils. Anything that cannot be imported from sklearn.utils is now part of the private API.\n",
            "  warnings.warn(message, FutureWarning)\n"
          ]
        }
      ],
      "source": [
        "import pandas as pd\n",
        "import seaborn as sns\n",
        "import matplotlib.pyplot as plt\n",
        "import numpy as np\n",
        "import lazypredict\n",
        "from sklearn.model_selection import train_test_split\n",
        "from sklearn.preprocessing import StandardScaler\n",
        "from lazypredict.Supervised import LazyClassifier\n"
      ]
    },
    {
      "cell_type": "markdown",
      "metadata": {
        "id": "Z82F5ey56jEC"
      },
      "source": [
        "Reading the CSV file and saving it as a dataframe"
      ]
    },
    {
      "cell_type": "code",
      "execution_count": null,
      "metadata": {
        "id": "r8YgFQJCn_tG"
      },
      "outputs": [],
      "source": [
        "df = pd.read_csv('/content/diabetes.csv')"
      ]
    },
    {
      "cell_type": "markdown",
      "source": [
        "Using the shape method to understand the dataset"
      ],
      "metadata": {
        "id": "w1aIhk3OxUDM"
      }
    },
    {
      "cell_type": "code",
      "execution_count": null,
      "metadata": {
        "id": "shXizstCqATr",
        "colab": {
          "base_uri": "https://localhost:8080/"
        },
        "outputId": "b2060f85-499f-4e5c-93a2-e53d8dd0e37b"
      },
      "outputs": [
        {
          "output_type": "execute_result",
          "data": {
            "text/plain": [
              "(768, 9)"
            ]
          },
          "metadata": {},
          "execution_count": 4
        }
      ],
      "source": [
        "df.shape"
      ]
    },
    {
      "cell_type": "markdown",
      "source": [
        "Dropping the Outcome Column from the dataframe"
      ],
      "metadata": {
        "id": "66zRe1bUxqdu"
      }
    },
    {
      "cell_type": "code",
      "execution_count": null,
      "metadata": {
        "id": "NJ4O00bnqFAx"
      },
      "outputs": [],
      "source": [
        "X = df.drop(['Outcome'],axis=1)\n",
        "y = df['Outcome']"
      ]
    },
    {
      "cell_type": "markdown",
      "source": [
        "Created the Training and Testing Sets"
      ],
      "metadata": {
        "id": "KBzdc0HhyY0-"
      }
    },
    {
      "cell_type": "code",
      "execution_count": null,
      "metadata": {
        "id": "VOKRonqhqNqP",
        "colab": {
          "base_uri": "https://localhost:8080/"
        },
        "outputId": "33050b8a-8644-40a1-f5f3-925ae32e516d"
      },
      "outputs": [
        {
          "output_type": "stream",
          "name": "stdout",
          "text": [
            "X_train - 4296\n",
            "X_test - 1848\n",
            "y_train - 537\n",
            "y_test - 231\n"
          ]
        }
      ],
      "source": [
        "X_train, X_test, y_train, y_test = train_test_split(X,y,test_size=0.3,random_state=1)\n",
        "\n",
        "print('X_train -', X_train.size)\n",
        "print('X_test -', X_test.size)\n",
        "print('y_train -', y_train.size)\n",
        "print('y_test -', y_test.size)"
      ]
    },
    {
      "cell_type": "markdown",
      "source": [
        "Data Visualisation"
      ],
      "metadata": {
        "id": "fCbyjhZ60xmp"
      }
    },
    {
      "cell_type": "code",
      "execution_count": null,
      "metadata": {
        "id": "Wpn-iyg1IU-1",
        "colab": {
          "base_uri": "https://localhost:8080/",
          "height": 717
        },
        "outputId": "b59a918e-7c39-4ca7-838d-178e2d3a615e"
      },
      "outputs": [
        {
          "output_type": "execute_result",
          "data": {
            "text/plain": [
              "<matplotlib.axes._subplots.AxesSubplot at 0x7f63d383ee50>"
            ]
          },
          "metadata": {},
          "execution_count": 7
        },
        {
          "output_type": "display_data",
          "data": {
            "text/plain": [
              "<Figure size 864x864 with 1 Axes>"
            ],
            "image/png": "[encoded data removed]"
          },
          "metadata": {
            "needs_background": "light"
          }
        }
      ],
      "source": [
        "plt.figure(figsize=(12,12))\n",
        "sns.boxplot(data=df)"
      ]
    },
    {
      "cell_type": "markdown",
      "source": [
        "#Removing outliers by setting their value to the median of the attribute"
      ],
      "metadata": {
        "id": "-npANeWT1S2u"
      }
    },
    {
      "cell_type": "code",
      "execution_count": null,
      "metadata": {
        "id": "ajc2YpC63Fzo"
      },
      "outputs": [],
      "source": [
        "df[['Glucose','BloodPressure','SkinThickness','Insulin','BMI']] = df[['Glucose','BloodPressure','SkinThickness','Insulin','BMI']].replace(0,np.NaN)\n",
        "\n",
        "def median_target(var):   \n",
        "    temp = df[df[var].notnull()]\n",
        "    temp = temp[[var, 'Outcome']].groupby(['Outcome'])[[var]].median().reset_index()\n",
        "    return temp\n",
        "\n",
        "df.loc[(df['Outcome'] == 0 ) & (df['Insulin'].isnull()), 'Insulin'] = 102.5\n",
        "df.loc[(df['Outcome'] == 1 ) & (df['Insulin'].isnull()), 'Insulin'] = 169.5\n",
        "\n",
        "df.loc[(df['Outcome'] == 0 ) & (df['Glucose'].isnull()), 'Glucose'] = 107\n",
        "df.loc[(df['Outcome'] == 1 ) & (df['Glucose'].isnull()), 'Glucose'] = 140\n",
        "\n",
        "df.loc[(df['Outcome'] == 0 ) & (df['SkinThickness'].isnull()), 'SkinThickness'] = 27\n",
        "df.loc[(df['Outcome'] == 1 ) & (df['SkinThickness'].isnull()), 'SkinThickness'] = 32\n",
        "\n",
        "df.loc[(df['Outcome'] == 0 ) & (df['BloodPressure'].isnull()), 'BloodPressure'] = 70\n",
        "df.loc[(df['Outcome'] == 1 ) & (df['BloodPressure'].isnull()), 'BloodPressure'] = 74.5\n",
        "\n",
        "df.loc[(df['Outcome'] == 0 ) & (df['BMI'].isnull()), 'BMI'] = 30.1\n",
        "df.loc[(df['Outcome'] == 1 ) & (df['BMI'].isnull()), 'BMI'] = 34.3"
      ]
    },
    {
      "cell_type": "markdown",
      "source": [
        "# Defining the machine learning models that we are comparing "
      ],
      "metadata": {
        "id": "z6e1Z8Ga2oFU"
      }
    },
    {
      "cell_type": "code",
      "execution_count": null,
      "metadata": {
        "id": "JidKo2JVrmdH"
      },
      "outputs": [],
      "source": [
        "from sklearn.tree import DecisionTreeClassifier\n",
        "from sklearn import svm\n",
        "from sklearn.neighbors import KNeighborsClassifier\n",
        "from sklearn.linear_model import LogisticRegression\n",
        "from sklearn.naive_bayes import GaussianNB\n",
        "from sklearn.ensemble import RandomForestClassifier\n",
        "from sklearn.neural_network import MLPClassifier\n",
        "\n",
        "dt = DecisionTreeClassifier()\n",
        "SVM = svm.SVC()\n",
        "knn = KNeighborsClassifier(n_neighbors=15)\n",
        "lr = LogisticRegression()\n",
        "nb = GaussianNB()\n",
        "rf = RandomForestClassifier()\n",
        "nn = MLPClassifier(solver='lbfgs', alpha=1e-5,hidden_layer_sizes=(5, 2), random_state=1)"
      ]
    },
    {
      "cell_type": "markdown",
      "metadata": {
        "id": "7M42PeJt3KS2"
      },
      "source": [
        "# Decision Tree Classifier"
      ]
    },
    {
      "cell_type": "code",
      "execution_count": null,
      "metadata": {
        "id": "n3pM7FBFsH7q",
        "outputId": "f2d19dc9-71e3-4e47-c6fa-a9ad3de9dc0f",
        "colab": {
          "base_uri": "https://localhost:8080/",
          "height": 300
        }
      },
      "outputs": [
        {
          "output_type": "stream",
          "name": "stdout",
          "text": [
            "Testing Accuracy :  0.6753246753246753\n",
            "Testing Precision :  0.7876712328767124\n"
          ]
        },
        {
          "output_type": "display_data",
          "data": {
            "text/plain": [
              "<Figure size 432x288 with 2 Axes>"
            ],
            "image/png": "[encoded data removed]"
          },
          "metadata": {
            "needs_background": "light"
          }
        }
      ],
      "source": [
        "from sklearn.metrics import confusion_matrix\n",
        "from seaborn import heatmap\n",
        "\n",
        "dt_model = dt.fit(X_train,y_train)\n",
        "dt_prediction = dt_model.predict(X_test)\n",
        "\n",
        "cm_dt = confusion_matrix(y_test,dt_prediction)\n",
        "\n",
        "sns.heatmap(cm_dt, annot=True, cmap = 'rocket' )\n",
        "TP = cm_dt[0][0]\n",
        "TN = cm_dt[1][1]\n",
        "FN = cm_dt[1][0]\n",
        "FP = cm_dt[0][1]\n",
        "\n",
        "print('Testing Accuracy : ',(TP + TN) / (TP + TN + FP + FN))\n",
        "print('Testing Precision : ', TP/(TP+FP))"
      ]
    },
    {
      "cell_type": "markdown",
      "metadata": {
        "id": "vOyB_9ld4jzD"
      },
      "source": [
        "# Logistic Regression"
      ]
    },
    {
      "cell_type": "code",
      "execution_count": null,
      "metadata": {
        "id": "Qtd6RIW6sY7f",
        "outputId": "1203f457-4504-45e8-c30f-7a5a9a1c1ba6",
        "colab": {
          "base_uri": "https://localhost:8080/",
          "height": 300
        }
      },
      "outputs": [
        {
          "output_type": "stream",
          "name": "stdout",
          "text": [
            "Testing Accuracy :  0.7835497835497836\n",
            "Testing Precision :  0.9041095890410958\n"
          ]
        },
        {
          "output_type": "display_data",
          "data": {
            "text/plain": [
              "<Figure size 432x288 with 2 Axes>"
            ],
            "image/png": "[encoded data removed]"
          },
          "metadata": {
            "needs_background": "light"
          }
        }
      ],
      "source": [
        "lr_model = lr.fit(X_train,y_train)\n",
        "lr_prediction = lr_model.predict(X_test)\n",
        "\n",
        "cm_lr = confusion_matrix(y_test,lr_prediction)\n",
        "\n",
        "sns.heatmap(cm_lr, annot=True, cmap = 'rocket' )\n",
        "TP = cm_lr[0][0]\n",
        "TN = cm_lr[1][1]\n",
        "FN = cm_lr[1][0]\n",
        "FP = cm_lr[0][1]\n",
        "\n",
        "print('Testing Accuracy : ',(TP + TN) / (TP + TN + FP + FN))\n",
        "print('Testing Precision : ', TP/(TP+FP))"
      ]
    },
    {
      "cell_type": "markdown",
      "metadata": {
        "id": "CA-p04sT6QWn"
      },
      "source": [
        "# Support Vector Machine"
      ]
    },
    {
      "cell_type": "code",
      "execution_count": null,
      "metadata": {
        "colab": {
          "base_uri": "https://localhost:8080/",
          "height": 300
        },
        "id": "BP1QtnAh6dD9",
        "outputId": "4de7300c-d78f-430e-d247-0569210f74de"
      },
      "outputs": [
        {
          "output_type": "stream",
          "name": "stdout",
          "text": [
            "Testing Accuracy :  0.7705627705627706\n",
            "Testing Precision :  0.9452054794520548\n"
          ]
        },
        {
          "output_type": "display_data",
          "data": {
            "text/plain": [
              "<Figure size 432x288 with 2 Axes>"
            ],
            "image/png": "[encoded data removed]"
          },
          "metadata": {
            "needs_background": "light"
          }
        }
      ],
      "source": [
        "svm_model = SVM.fit(X_train,y_train)\n",
        "svm_prediction = svm_model.predict(X_test)\n",
        "\n",
        "cm_svm = confusion_matrix(y_test,svm_prediction)\n",
        "\n",
        "sns.heatmap(cm_svm, annot=True, cmap = 'rocket' )\n",
        "TP = cm_svm[0][0]\n",
        "TN = cm_svm[1][1]\n",
        "FN = cm_svm[1][0]\n",
        "FP = cm_svm[0][1]\n",
        "\n",
        "print('Testing Accuracy : ',(TP + TN) / (TP + TN + FP + FN))\n",
        "print('Testing Precision : ', TP/(TP+FP))\n",
        "\n"
      ]
    },
    {
      "cell_type": "markdown",
      "metadata": {
        "id": "DaMsZled9HKn"
      },
      "source": [
        "# k-Nearest Neighbor Algorithm"
      ]
    },
    {
      "cell_type": "code",
      "execution_count": null,
      "metadata": {
        "colab": {
          "base_uri": "https://localhost:8080/",
          "height": 300
        },
        "id": "ENNr3AXW65_L",
        "outputId": "74bc3056-71c1-43fd-d2fd-2c2680be12df"
      },
      "outputs": [
        {
          "output_type": "stream",
          "name": "stdout",
          "text": [
            "Testing Accuracy :  0.7878787878787878\n",
            "Testing Precision :  0.9315068493150684\n"
          ]
        },
        {
          "output_type": "display_data",
          "data": {
            "text/plain": [
              "<Figure size 432x288 with 2 Axes>"
            ],
            "image/png": "[encoded data removed]"
          },
          "metadata": {
            "needs_background": "light"
          }
        }
      ],
      "source": [
        "knn_model = knn.fit(X_train,y_train)\n",
        "knn_prediction = knn_model.predict(X_test)\n",
        "\n",
        "cm_knn = confusion_matrix(y_test,knn_prediction)\n",
        "\n",
        "sns.heatmap(cm_knn, annot=True, cmap = 'rocket' )\n",
        "TP = cm_knn[0][0]\n",
        "TN = cm_knn[1][1]\n",
        "FN = cm_knn[1][0]\n",
        "FP = cm_knn[0][1]\n",
        "\n",
        "print('Testing Accuracy : ',(TP + TN) / (TP + TN + FP + FN))\n",
        "print('Testing Precision : ', TP/(TP+FP))\n",
        "\n",
        "\n"
      ]
    },
    {
      "cell_type": "markdown",
      "metadata": {
        "id": "Rbw5wsxo94Q0"
      },
      "source": [
        "# Gaussian Naive Bayes Algorithm\n"
      ]
    },
    {
      "cell_type": "code",
      "execution_count": null,
      "metadata": {
        "colab": {
          "base_uri": "https://localhost:8080/",
          "height": 300
        },
        "id": "Xf22Rdtb-Np4",
        "outputId": "4d91455a-3ed5-4196-a2c5-ae6ea46a7049"
      },
      "outputs": [
        {
          "output_type": "stream",
          "name": "stdout",
          "text": [
            "Testing Accuracy :  0.7835497835497836\n",
            "Testing Precision :  0.8767123287671232\n"
          ]
        },
        {
          "output_type": "display_data",
          "data": {
            "text/plain": [
              "<Figure size 432x288 with 2 Axes>"
            ],
            "image/png": "[encoded data removed]"
          },
          "metadata": {
            "needs_background": "light"
          }
        }
      ],
      "source": [
        "nb_model = nb.fit(X_train,y_train)\n",
        "nb_prediction = nb_model.predict(X_test)\n",
        "\n",
        "cm_nb = confusion_matrix(y_test,nb_prediction)\n",
        "\n",
        "sns.heatmap(cm_nb, annot=True, cmap = 'rocket' )\n",
        "TP = cm_nb[0][0]\n",
        "TN = cm_nb[1][1]\n",
        "FN = cm_nb[1][0]\n",
        "FP = cm_nb[0][1]\n",
        "\n",
        "print('Testing Accuracy : ',(TP + TN) / (TP + TN + FP + FN))\n",
        "print('Testing Precision : ', TP/(TP+FP))"
      ]
    },
    {
      "cell_type": "markdown",
      "metadata": {
        "id": "aCX6fua9-AsZ"
      },
      "source": [
        "# Random Forest Classifier"
      ]
    },
    {
      "cell_type": "code",
      "execution_count": null,
      "metadata": {
        "colab": {
          "base_uri": "https://localhost:8080/",
          "height": 300
        },
        "id": "tI4WgjHQ-OBV",
        "outputId": "8d4fd658-68de-456f-c5d6-d806f0ea547c"
      },
      "outputs": [
        {
          "output_type": "stream",
          "name": "stdout",
          "text": [
            "Testing Accuracy :  0.8181818181818182\n",
            "Testing Precision :  0.910958904109589\n"
          ]
        },
        {
          "output_type": "display_data",
          "data": {
            "text/plain": [
              "<Figure size 432x288 with 2 Axes>"
            ],
            "image/png": "[encoded data removed]"
          },
          "metadata": {
            "needs_background": "light"
          }
        }
      ],
      "source": [
        "rf_model = rf.fit(X_train,y_train)\n",
        "rf_prediction = rf_model.predict(X_test)\n",
        "\n",
        "cm_rf = confusion_matrix(y_test,rf_prediction)\n",
        "\n",
        "sns.heatmap(cm_rf, annot=True, cmap = 'rocket' )\n",
        "TP = cm_rf[0][0]\n",
        "TN = cm_rf[1][1]\n",
        "FN = cm_rf[1][0]\n",
        "FP = cm_rf[0][1]\n",
        "\n",
        "print('Testing Accuracy : ',(TP + TN) / (TP + TN + FP + FN))\n",
        "print('Testing Precision : ', TP/(TP+FP))\n"
      ]
    },
    {
      "cell_type": "markdown",
      "metadata": {
        "id": "zkn5Cbjm-A4f"
      },
      "source": [
        "# Neural Network"
      ]
    },
    {
      "cell_type": "code",
      "execution_count": null,
      "metadata": {
        "colab": {
          "base_uri": "https://localhost:8080/",
          "height": 300
        },
        "id": "vddqI09G-OPk",
        "outputId": "0eb7fb83-a7c6-49bd-8f07-bda27a4b8d6e"
      },
      "outputs": [
        {
          "output_type": "stream",
          "name": "stdout",
          "text": [
            "Testing Accuracy :  0.6060606060606061\n",
            "Testing Precision :  0.952054794520548\n"
          ]
        },
        {
          "output_type": "display_data",
          "data": {
            "text/plain": [
              "<Figure size 432x288 with 2 Axes>"
            ],
            "image/png": "[encoded data removed]"
          },
          "metadata": {
            "needs_background": "light"
          }
        }
      ],
      "source": [
        "nn_model = nn.fit(X_train,y_train)\n",
        "nn_prediction = nn_model.predict(X_test)\n",
        "\n",
        "cm_nn = confusion_matrix(y_test,nn_prediction)\n",
        "\n",
        "sns.heatmap(cm_nn, annot=True, cmap = 'rocket' )\n",
        "TP = cm_nn[0][0]\n",
        "TN = cm_nn[1][1]\n",
        "FN = cm_nn[1][0]\n",
        "FP = cm_nn[0][1]\n",
        "\n",
        "print('Testing Accuracy : ',(TP + TN) / (TP + TN + FP + FN))\n",
        "print('Testing Precision : ', TP/(TP+FP))"
      ]
    },
    {
      "cell_type": "markdown",
      "source": [
        "# Semi-Automation of Unit Testing using LazyPredict Library"
      ],
      "metadata": {
        "id": "EP42y4Rg3V5p"
      }
    },
    {
      "cell_type": "code",
      "execution_count": null,
      "metadata": {
        "colab": {
          "base_uri": "https://localhost:8080/"
        },
        "id": "UMiUc8oe_PmI",
        "outputId": "ae26d82e-eaa4-49d1-b069-707db9c77aa0"
      },
      "outputs": [
        {
          "output_type": "stream",
          "name": "stderr",
          "text": [
            "100%|██████████| 29/29 [00:01<00:00, 17.91it/s]"
          ]
        },
        {
          "output_type": "stream",
          "name": "stdout",
          "text": [
            "/n\n",
            "                               Accuracy  Balanced Accuracy  ROC AUC  F1 Score  \\\n",
            "Model                                                                           \n",
            "RandomForestClassifier             0.81               0.78     0.78      0.81   \n",
            "NearestCentroid                    0.78               0.78     0.78      0.78   \n",
            "KNeighborsClassifier               0.79               0.76     0.76      0.79   \n",
            "BaggingClassifier                  0.80               0.76     0.76      0.79   \n",
            "ExtraTreesClassifier               0.78               0.75     0.75      0.78   \n",
            "GaussianNB                         0.78               0.75     0.75      0.78   \n",
            "SVC                                0.79               0.75     0.75      0.78   \n",
            "BernoulliNB                        0.76               0.75     0.75      0.76   \n",
            "AdaBoostClassifier                 0.78               0.74     0.74      0.78   \n",
            "LinearDiscriminantAnalysis         0.78               0.74     0.74      0.78   \n",
            "NuSVC                              0.78               0.74     0.74      0.78   \n",
            "LogisticRegression                 0.78               0.74     0.74      0.78   \n",
            "LinearSVC                          0.78               0.74     0.74      0.78   \n",
            "RidgeClassifier                    0.78               0.73     0.73      0.77   \n",
            "RidgeClassifierCV                  0.78               0.73     0.73      0.77   \n",
            "CalibratedClassifierCV             0.78               0.73     0.73      0.77   \n",
            "LGBMClassifier                     0.77               0.73     0.73      0.76   \n",
            "XGBClassifier                      0.77               0.73     0.73      0.76   \n",
            "QuadraticDiscriminantAnalysis      0.75               0.72     0.72      0.75   \n",
            "ExtraTreeClassifier                0.71               0.69     0.69      0.71   \n",
            "LabelSpreading                     0.72               0.68     0.68      0.72   \n",
            "LabelPropagation                   0.72               0.68     0.68      0.72   \n",
            "SGDClassifier                      0.73               0.67     0.67      0.71   \n",
            "DecisionTreeClassifier             0.71               0.66     0.66      0.70   \n",
            "PassiveAggressiveClassifier        0.70               0.63     0.63      0.67   \n",
            "Perceptron                         0.59               0.52     0.52      0.57   \n",
            "DummyClassifier                    0.53               0.49     0.49      0.53   \n",
            "\n",
            "                               Time Taken  \n",
            "Model                                      \n",
            "RandomForestClassifier               0.23  \n",
            "NearestCentroid                      0.02  \n",
            "KNeighborsClassifier                 0.04  \n",
            "BaggingClassifier                    0.06  \n",
            "ExtraTreesClassifier                 0.24  \n",
            "GaussianNB                           0.03  \n",
            "SVC                                  0.03  \n",
            "BernoulliNB                          0.02  \n",
            "AdaBoostClassifier                   0.13  \n",
            "LinearDiscriminantAnalysis           0.02  \n",
            "NuSVC                                0.03  \n",
            "LogisticRegression                   0.03  \n",
            "LinearSVC                            0.05  \n",
            "RidgeClassifier                      0.02  \n",
            "RidgeClassifierCV                    0.02  \n",
            "CalibratedClassifierCV               0.12  \n",
            "LGBMClassifier                       0.07  \n",
            "XGBClassifier                        0.21  \n",
            "QuadraticDiscriminantAnalysis        0.02  \n",
            "ExtraTreeClassifier                  0.01  \n",
            "LabelSpreading                       0.07  \n",
            "LabelPropagation                     0.05  \n",
            "SGDClassifier                        0.02  \n",
            "DecisionTreeClassifier               0.02  \n",
            "PassiveAggressiveClassifier          0.02  \n",
            "Perceptron                           0.02  \n",
            "DummyClassifier                      0.01  \n"
          ]
        },
        {
          "output_type": "stream",
          "name": "stderr",
          "text": [
            "\n"
          ]
        }
      ],
      "source": [
        "clf = LazyClassifier(verbose=0, ignore_warnings=True, custom_metric = None)\n",
        "models,predictions = clf.fit(X_train, X_test, y_train, y_test)\n",
        "print(\"/n\")\n",
        "print(models)"
      ]
    },
    {
      "cell_type": "markdown",
      "source": [
        "# Result Visualisation"
      ],
      "metadata": {
        "id": "baJ2yOKe3gb_"
      }
    },
    {
      "cell_type": "code",
      "execution_count": null,
      "metadata": {
        "colab": {
          "base_uri": "https://localhost:8080/",
          "height": 350
        },
        "id": "orQwle-wQD8j",
        "outputId": "b011586a-1168-4b7d-8348-54f84b52f890"
      },
      "outputs": [
        {
          "output_type": "display_data",
          "data": {
            "text/plain": [
              "<Figure size 720x360 with 1 Axes>"
            ],
            "image/png": "[encoded data removed]"
          },
          "metadata": {
            "needs_background": "light"
          }
        }
      ],
      "source": [
        "import matplotlib.pyplot as plt\n",
        "\n",
        "data = {'RFC':0.81 , 'NearestCentroid  ': 0.78, 'KNN':0.79 ,\n",
        "        'BClassifier ':0.80,'ETClassifier':  0.78 ,'GNB':0.78,'SVC' : 0.79   }\n",
        "courses = list(data.keys())\n",
        "values = list(data.values())\n",
        "  \n",
        "fig = plt.figure(figsize = (10, 5))\n",
        " \n",
        "# creating the bar plot\n",
        "plt.bar(courses, values, color ='coral',\n",
        "        width = 0.5)\n",
        " \n",
        "plt.xlabel(\"Machine Learning Models\")\n",
        "plt.ylabel(\"Accuracy\")\n",
        "plt.title(\"Results from Lazy Classifier\")\n",
        "plt.show()\n"
      ]
    },
    {
      "cell_type": "markdown",
      "source": [
        "Pickling the Model"
      ],
      "metadata": {
        "id": "3TZB4Dxm3i8r"
      }
    },
    {
      "cell_type": "code",
      "source": [
        "import pickle\n",
        "\n",
        "# save the model\n",
        "pickle.dump(rf_model, open('model_rfc.pkl', 'wb'))"
      ],
      "metadata": {
        "id": "BZgHCyMlbI6P"
      },
      "execution_count": null,
      "outputs": []
    },
    {
      "cell_type": "markdown",
      "source": [
        "# ROC-AUC for our RandomForestClassifier Machine Learning Model "
      ],
      "metadata": {
        "id": "T-CV2biBJbbo"
      }
    },
    {
      "cell_type": "code",
      "source": [
        "from sklearn.metrics import roc_curve\n",
        "from sklearn.metrics import roc_auc_score\n",
        "from matplotlib import pyplot"
      ],
      "metadata": {
        "id": "alePdCu2pCL1"
      },
      "execution_count": null,
      "outputs": []
    },
    {
      "cell_type": "code",
      "source": [
        "# generate a no skill prediction (majority class)\n",
        "ns_probs = [0 for _ in range(len(y_test))]\n",
        "# predict probabilities\n",
        "rfc_probs = rf_model.predict_proba(X_test)\n",
        "# keep probabilities for the positive outcome only\n",
        "rfc_probs = rfc_probs[:,1]\n",
        "\n",
        "# calculate scores\n",
        "ns_auc = roc_auc_score(y_test, ns_probs)\n",
        "rfc_auc = roc_auc_score(y_test, rfc_probs)\n",
        "\n",
        "# summarize scores\n",
        "print('No Skill: ROC AUC=%.3f' % (ns_auc))\n",
        "print('Logistic: ROC AUC=%.3f' % (rfc_auc))\n",
        "# calculate roc curves\n",
        "ns_fpr, ns_tpr, _ = roc_curve(y_test, ns_probs)\n",
        "rfc_fpr, rfc_tpr, _ = roc_curve(y_test, rfc_probs)\n",
        "# plot the roc curve for the model\n",
        "pyplot.plot(ns_fpr, ns_tpr, linestyle='--', label='No Skill')\n",
        "pyplot.plot(rfc_fpr, rfc_tpr, marker='.', label='Random Forest Classifier')\n",
        "# axis labels\n",
        "pyplot.xlabel('False Positive Rate')\n",
        "pyplot.ylabel('True Positive Rate')\n",
        "# show the legend\n",
        "pyplot.legend()\n",
        "# show the plot\n",
        "pyplot.show()"
      ],
      "metadata": {
        "colab": {
          "base_uri": "https://localhost:8080/",
          "height": 314
        },
        "id": "NIMtkjpmok8p",
        "outputId": "0bc08f1a-e02a-4a5a-f38d-56bdcf309a1c"
      },
      "execution_count": null,
      "outputs": [
        {
          "output_type": "stream",
          "name": "stdout",
          "text": [
            "No Skill: ROC AUC=0.500\n",
            "Logistic: ROC AUC=0.875\n"
          ]
        },
        {
          "output_type": "display_data",
          "data": {
            "text/plain": [
              "<Figure size 432x288 with 1 Axes>"
            ],
            "image/png": "[encoded data removed]"
          },
          "metadata": {
            "needs_background": "light"
          }
        }
      ]
    }
  ],
  "metadata": {
    "colab": {
      "collapsed_sections": [],
      "name": "diabetes-prediction.ipynb",
      "provenance": []
    },
    "kernelspec": {
      "display_name": "Python 3",
      "name": "python3"
    },
    "language_info": {
      "name": "python"
    }
  },
  "nbformat": 4,
  "nbformat_minor": 0
}