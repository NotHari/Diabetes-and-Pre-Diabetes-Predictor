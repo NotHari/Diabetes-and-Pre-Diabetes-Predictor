{
  "nbformat": 4,
  "nbformat_minor": 0,
  "metadata": {
    "colab": {
      "name": "diabetes-prediction.ipynb",
      "provenance": [],
      "collapsed_sections": []
    },
    "kernelspec": {
      "name": "python3",
      "display_name": "Python 3"
    },
    "language_info": {
      "name": "python"
    }
  },
  "cells": [
    {
      "cell_type": "code",
      "execution_count": 1,
      "metadata": {
        "id": "sCTkBlCHnjxS",
        "colab": {
          "base_uri": "https://localhost:8080/"
        },
        "outputId": "8c8a20e7-45b4-4c47-d796-25eab441b1e1"
      },
      "outputs": [
        {
          "output_type": "stream",
          "name": "stdout",
          "text": [
            "Requirement already satisfied: pandas in /usr/local/lib/python3.7/dist-packages (1.3.5)\n",
            "Requirement already satisfied: python-dateutil>=2.7.3 in /usr/local/lib/python3.7/dist-packages (from pandas) (2.8.2)\n",
            "Requirement already satisfied: numpy>=1.17.3 in /usr/local/lib/python3.7/dist-packages (from pandas) (1.21.5)\n",
            "Requirement already satisfied: pytz>=2017.3 in /usr/local/lib/python3.7/dist-packages (from pandas) (2018.9)\n",
            "Requirement already satisfied: six>=1.5 in /usr/local/lib/python3.7/dist-packages (from python-dateutil>=2.7.3->pandas) (1.15.0)\n",
            "Requirement already satisfied: numpy in /usr/local/lib/python3.7/dist-packages (1.21.5)\n",
            "Requirement already satisfied: scikit-learn in /usr/local/lib/python3.7/dist-packages (1.0.2)\n",
            "Requirement already satisfied: joblib>=0.11 in /usr/local/lib/python3.7/dist-packages (from scikit-learn) (1.1.0)\n",
            "Requirement already satisfied: threadpoolctl>=2.0.0 in /usr/local/lib/python3.7/dist-packages (from scikit-learn) (3.1.0)\n",
            "Requirement already satisfied: numpy>=1.14.6 in /usr/local/lib/python3.7/dist-packages (from scikit-learn) (1.21.5)\n",
            "Requirement already satisfied: scipy>=1.1.0 in /usr/local/lib/python3.7/dist-packages (from scikit-learn) (1.4.1)\n",
            "Requirement already satisfied: seaborn in /usr/local/lib/python3.7/dist-packages (0.11.2)\n",
            "Requirement already satisfied: pandas>=0.23 in /usr/local/lib/python3.7/dist-packages (from seaborn) (1.3.5)\n",
            "Requirement already satisfied: numpy>=1.15 in /usr/local/lib/python3.7/dist-packages (from seaborn) (1.21.5)\n",
            "Requirement already satisfied: scipy>=1.0 in /usr/local/lib/python3.7/dist-packages (from seaborn) (1.4.1)\n",
            "Requirement already satisfied: matplotlib>=2.2 in /usr/local/lib/python3.7/dist-packages (from seaborn) (3.2.2)\n",
            "Requirement already satisfied: pyparsing!=2.0.4,!=2.1.2,!=2.1.6,>=2.0.1 in /usr/local/lib/python3.7/dist-packages (from matplotlib>=2.2->seaborn) (3.0.7)\n",
            "Requirement already satisfied: cycler>=0.10 in /usr/local/lib/python3.7/dist-packages (from matplotlib>=2.2->seaborn) (0.11.0)\n",
            "Requirement already satisfied: python-dateutil>=2.1 in /usr/local/lib/python3.7/dist-packages (from matplotlib>=2.2->seaborn) (2.8.2)\n",
            "Requirement already satisfied: kiwisolver>=1.0.1 in /usr/local/lib/python3.7/dist-packages (from matplotlib>=2.2->seaborn) (1.4.0)\n",
            "Requirement already satisfied: typing-extensions in /usr/local/lib/python3.7/dist-packages (from kiwisolver>=1.0.1->matplotlib>=2.2->seaborn) (3.10.0.2)\n",
            "Requirement already satisfied: pytz>=2017.3 in /usr/local/lib/python3.7/dist-packages (from pandas>=0.23->seaborn) (2018.9)\n",
            "Requirement already satisfied: six>=1.5 in /usr/local/lib/python3.7/dist-packages (from python-dateutil>=2.1->matplotlib>=2.2->seaborn) (1.15.0)\n"
          ]
        }
      ],
      "source": [
        "!pip install pandas\n",
        "!pip install numpy \n",
        "!pip install -U scikit-learn\n",
        "!pip install seaborn"
      ]
    },
    {
      "cell_type": "code",
      "source": [
        "import pandas as pd\n",
        "import seaborn as sns\n",
        "import matplotlib.pyplot as plt\n",
        "import numpy as np\n",
        "from sklearn.model_selection import train_test_split\n",
        "from sklearn.preprocessing import StandardScaler"
      ],
      "metadata": {
        "id": "bbQ3EQJ3uAq-"
      },
      "execution_count": 2,
      "outputs": []
    },
    {
      "cell_type": "code",
      "source": [
        "df = pd.read_csv('/content/diabetes.csv')\n",
        "\n",
        "StandardScaler = StandardScaler()\n",
        "columns_to_scale = ['Pregnancies','Glucose','BloodPressure','SkinThickness','Insulin', 'BMI' , 'DiabetesPedigreeFunction', 'Age']\n",
        "df[columns_to_scale] = StandardScaler.fit_transform(df[columns_to_scale])"
      ],
      "metadata": {
        "id": "r8YgFQJCn_tG"
      },
      "execution_count": 4,
      "outputs": []
    },
    {
      "cell_type": "code",
      "source": [
        "df.shape"
      ],
      "metadata": {
        "id": "shXizstCqATr",
        "colab": {
          "base_uri": "https://localhost:8080/"
        },
        "outputId": "d2fcde2f-a2c4-41e1-e099-0b9f0581dded"
      },
      "execution_count": 5,
      "outputs": [
        {
          "output_type": "execute_result",
          "data": {
            "text/plain": [
              "(768, 9)"
            ]
          },
          "metadata": {},
          "execution_count": 5
        }
      ]
    },
    {
      "cell_type": "code",
      "source": [
        "# df['zscore'] = ( df.Insulin - df.Insulin.mean() ) / df.Insulin.std()\n",
        "# df[df['zscore']>2 && df['zscore]<-2]\n",
        "X = df.drop(['Outcome'],axis=1)\n",
        "y = df['Outcome']\n"
      ],
      "metadata": {
        "id": "NJ4O00bnqFAx"
      },
      "execution_count": 6,
      "outputs": []
    },
    {
      "cell_type": "code",
      "source": [
        "X_train, X_test, y_train, y_test = train_test_split(X,y,test_size=0.3,random_state=1)"
      ],
      "metadata": {
        "id": "VOKRonqhqNqP"
      },
      "execution_count": 7,
      "outputs": []
    },
    {
      "cell_type": "code",
      "source": [
        "print('X_train -', X_train.size)\n",
        "print('X_test -', X_test.size)\n",
        "print('y_train -', y_train.size)\n",
        "print('y_test -', y_test.size)"
      ],
      "metadata": {
        "id": "jW7zA1pZqsTc",
        "colab": {
          "base_uri": "https://localhost:8080/"
        },
        "outputId": "f0d650a4-d82e-4ec9-f8ae-4daebd219feb"
      },
      "execution_count": 8,
      "outputs": [
        {
          "output_type": "stream",
          "name": "stdout",
          "text": [
            "X_train - 4296\n",
            "X_test - 1848\n",
            "y_train - 537\n",
            "y_test - 231\n"
          ]
        }
      ]
    },
    {
      "cell_type": "code",
      "source": [
        "plt.figure(figsize=(12,12))\n",
        "sns.boxplot(data=df)"
      ],
      "metadata": {
        "id": "Wpn-iyg1IU-1",
        "colab": {
          "base_uri": "https://localhost:8080/",
          "height": 718
        },
        "outputId": "6e4d4791-4228-4363-aa52-acdf3ed16fc9"
      },
      "execution_count": 9,
      "outputs": [
        {
          "output_type": "execute_result",
          "data": {
            "text/plain": [
              "<matplotlib.axes._subplots.AxesSubplot at 0x7ff663eb69d0>"
            ]
          },
          "metadata": {},
          "execution_count": 9
        },
        {
          "output_type": "display_data",
          "data": {
            "text/plain": [
              "<Figure size 864x864 with 1 Axes>"
            ],
            "image/png": "[encoded data removed]"
          },
          "metadata": {
            "needs_background": "light"
          }
        }
      ]
    },
    {
      "cell_type": "code",
      "source": [
        "df[['Glucose','BloodPressure','SkinThickness','Insulin','BMI']] = df[['Glucose','BloodPressure','SkinThickness','Insulin','BMI']].replace(0,np.NaN)\n",
        "\n",
        "def median_target(var):   \n",
        "    temp = df[df[var].notnull()]\n",
        "    temp = temp[[var, 'Outcome']].groupby(['Outcome'])[[var]].median().reset_index()\n",
        "    return temp\n",
        "\n",
        "df.loc[(df['Outcome'] == 0 ) & (df['Insulin'].isnull()), 'Insulin'] = 102.5\n",
        "df.loc[(df['Outcome'] == 1 ) & (df['Insulin'].isnull()), 'Insulin'] = 169.5\n",
        "\n",
        "df.loc[(df['Outcome'] == 0 ) & (df['Glucose'].isnull()), 'Glucose'] = 107\n",
        "df.loc[(df['Outcome'] == 1 ) & (df['Glucose'].isnull()), 'Glucose'] = 140\n",
        "\n",
        "df.loc[(df['Outcome'] == 0 ) & (df['SkinThickness'].isnull()), 'SkinThickness'] = 27\n",
        "df.loc[(df['Outcome'] == 1 ) & (df['SkinThickness'].isnull()), 'SkinThickness'] = 32\n",
        "\n",
        "df.loc[(df['Outcome'] == 0 ) & (df['BloodPressure'].isnull()), 'BloodPressure'] = 70\n",
        "df.loc[(df['Outcome'] == 1 ) & (df['BloodPressure'].isnull()), 'BloodPressure'] = 74.5\n",
        "\n",
        "df.loc[(df['Outcome'] == 0 ) & (df['BMI'].isnull()), 'BMI'] = 30.1\n",
        "df.loc[(df['Outcome'] == 1 ) & (df['BMI'].isnull()), 'BMI'] = 34.3"
      ],
      "metadata": {
        "id": "ajc2YpC63Fzo"
      },
      "execution_count": 10,
      "outputs": []
    },
    {
      "cell_type": "code",
      "source": [
        "from sklearn.tree import DecisionTreeClassifier\n",
        "from sklearn import svm\n",
        "from sklearn.neighbors import KNeighborsClassifier\n",
        "from sklearn.linear_model import LogisticRegression\n",
        "from sklearn.naive_bayes import GaussianNB\n",
        "from sklearn.ensemble import RandomForestClassifier\n",
        "from sklearn.neural_network import MLPClassifier\n",
        "\n",
        "dt = DecisionTreeClassifier()\n",
        "SVM = svm.SVC()\n",
        "knn = KNeighborsClassifier(n_neighbors=15)\n",
        "lr = LogisticRegression()\n",
        "nb = GaussianNB()\n",
        "rf = RandomForestClassifier()\n",
        "nn = MLPClassifier(solver='lbfgs', alpha=1e-5,hidden_layer_sizes=(5, 2), random_state=1)"
      ],
      "metadata": {
        "id": "JidKo2JVrmdH"
      },
      "execution_count": 11,
      "outputs": []
    },
    {
      "cell_type": "markdown",
      "source": [
        "DECISION TREE CLASSIFIER"
      ],
      "metadata": {
        "id": "7M42PeJt3KS2"
      }
    },
    {
      "cell_type": "code",
      "source": [
        "from sklearn.metrics import confusion_matrix\n",
        "from seaborn import heatmap\n",
        "\n",
        "dt_model = dt.fit(X_train,y_train)\n",
        "dt_prediction = dt_model.predict(X_test)\n",
        "\n",
        "cm_dt = confusion_matrix(y_test,dt_prediction)\n",
        "\n",
        "sns.heatmap(cm_dt, annot=True, cmap = 'rocket' )\n",
        "TP = cm_dt[0][0]\n",
        "TN = cm_dt[1][1]\n",
        "FN = cm_dt[1][0]\n",
        "FP = cm_dt[0][1]\n",
        "\n",
        "print('Testing Accuracy : ',(TP + TN) / (TP + TN + FP + FN))\n",
        "print('Testing Precision : ', TP/(TP+FP))"
      ],
      "metadata": {
        "id": "n3pM7FBFsH7q",
        "colab": {
          "base_uri": "https://localhost:8080/",
          "height": 300
        },
        "outputId": "127be4da-4d54-4990-87f4-aafd7c845595"
      },
      "execution_count": 12,
      "outputs": [
        {
          "output_type": "stream",
          "name": "stdout",
          "text": [
            "Testing Accuracy :  0.670995670995671\n",
            "Testing Precision :  0.773972602739726\n"
          ]
        },
        {
          "output_type": "display_data",
          "data": {
            "text/plain": [
              "<Figure size 432x288 with 2 Axes>"
            ],
            "image/png": "[encoded data removed]"
          },
          "metadata": {
            "needs_background": "light"
          }
        }
      ]
    },
    {
      "cell_type": "markdown",
      "source": [
        "LOGISTIC REGRESSION"
      ],
      "metadata": {
        "id": "vOyB_9ld4jzD"
      }
    },
    {
      "cell_type": "code",
      "source": [
        "lr_model = lr.fit(X_train,y_train)\n",
        "lr_prediction = lr_model.predict(X_test)\n",
        "\n",
        "cm_lr = confusion_matrix(y_test,lr_prediction)\n",
        "\n",
        "sns.heatmap(cm_lr, annot=True, cmap = 'rocket' )\n",
        "TP = cm_lr[0][0]\n",
        "TN = cm_lr[1][1]\n",
        "FN = cm_lr[1][0]\n",
        "FP = cm_lr[0][1]\n",
        "\n",
        "print('Testing Accuracy : ',(TP + TN) / (TP + TN + FP + FN))\n",
        "print('Testing Precision : ', TP/(TP+FP))"
      ],
      "metadata": {
        "id": "Qtd6RIW6sY7f",
        "colab": {
          "base_uri": "https://localhost:8080/",
          "height": 300
        },
        "outputId": "1170b24d-84e9-4189-b092-f27e70225a7c"
      },
      "execution_count": 13,
      "outputs": [
        {
          "output_type": "stream",
          "name": "stdout",
          "text": [
            "Testing Accuracy :  0.7835497835497836\n",
            "Testing Precision :  0.9041095890410958\n"
          ]
        },
        {
          "output_type": "display_data",
          "data": {
            "text/plain": [
              "<Figure size 432x288 with 2 Axes>"
            ],
            "image/png": "[encoded data removed]"
          },
          "metadata": {
            "needs_background": "light"
          }
        }
      ]
    },
    {
      "cell_type": "markdown",
      "source": [
        "SUPPORT VECTOR MACHINE"
      ],
      "metadata": {
        "id": "CA-p04sT6QWn"
      }
    },
    {
      "cell_type": "code",
      "source": [
        "svm_model = SVM.fit(X_train,y_train)\n",
        "svm_prediction = svm_model.predict(X_test)\n",
        "\n",
        "cm_svm = confusion_matrix(y_test,svm_prediction)\n",
        "\n",
        "sns.heatmap(cm_svm, annot=True, cmap = 'rocket' )\n",
        "TP = cm_svm[0][0]\n",
        "TN = cm_svm[1][1]\n",
        "FN = cm_svm[1][0]\n",
        "FP = cm_svm[0][1]\n",
        "\n",
        "print('Testing Accuracy : ',(TP + TN) / (TP + TN + FP + FN))\n",
        "print('Testing Precision : ', TP/(TP+FP))"
      ],
      "metadata": {
        "id": "BP1QtnAh6dD9",
        "colab": {
          "base_uri": "https://localhost:8080/",
          "height": 300
        },
        "outputId": "004f5004-280a-4848-8d24-398d951c4278"
      },
      "execution_count": 14,
      "outputs": [
        {
          "output_type": "stream",
          "name": "stdout",
          "text": [
            "Testing Accuracy :  0.7965367965367965\n",
            "Testing Precision :  0.9246575342465754\n"
          ]
        },
        {
          "output_type": "display_data",
          "data": {
            "text/plain": [
              "<Figure size 432x288 with 2 Axes>"
            ],
            "image/png": "[encoded data removed]"
          },
          "metadata": {
            "needs_background": "light"
          }
        }
      ]
    },
    {
      "cell_type": "markdown",
      "source": [
        "k NEAREST NEIGHBOR CLASSIFIER\n"
      ],
      "metadata": {
        "id": "DaMsZled9HKn"
      }
    },
    {
      "cell_type": "code",
      "source": [
        "knn_model = knn.fit(X_train,y_train)\n",
        "knn_prediction = knn_model.predict(X_test)\n",
        "\n",
        "cm_knn = confusion_matrix(y_test,knn_prediction)\n",
        "\n",
        "sns.heatmap(cm_knn, annot=True, cmap = 'rocket' )\n",
        "TP = cm_knn[0][0]\n",
        "TN = cm_knn[1][1]\n",
        "FN = cm_knn[1][0]\n",
        "FP = cm_knn[0][1]\n",
        "\n",
        "print('Testing Accuracy : ',(TP + TN) / (TP + TN + FP + FN))\n",
        "print('Testing Precision : ', TP/(TP+FP))\n",
        "\n",
        "\n"
      ],
      "metadata": {
        "id": "ENNr3AXW65_L",
        "colab": {
          "base_uri": "https://localhost:8080/",
          "height": 300
        },
        "outputId": "56f0ca16-594d-47a3-c684-d3f63ef34607"
      },
      "execution_count": 15,
      "outputs": [
        {
          "output_type": "stream",
          "name": "stdout",
          "text": [
            "Testing Accuracy :  0.7878787878787878\n",
            "Testing Precision :  0.9041095890410958\n"
          ]
        },
        {
          "output_type": "display_data",
          "data": {
            "text/plain": [
              "<Figure size 432x288 with 2 Axes>"
            ],
            "image/png": "[encoded data removed]"
          },
          "metadata": {
            "needs_background": "light"
          }
        }
      ]
    },
    {
      "cell_type": "markdown",
      "source": [
        "GAUSSIAN NAIVE BAYES \n",
        "\n"
      ],
      "metadata": {
        "id": "Rbw5wsxo94Q0"
      }
    },
    {
      "cell_type": "code",
      "source": [
        "nb_model = nb.fit(X_train,y_train)\n",
        "nb_prediction = nb_model.predict(X_test)\n",
        "\n",
        "cm_nb = confusion_matrix(y_test,nb_prediction)\n",
        "\n",
        "sns.heatmap(cm_nb, annot=True, cmap = 'rocket' )\n",
        "TP = cm_nb[0][0]\n",
        "TN = cm_nb[1][1]\n",
        "FN = cm_nb[1][0]\n",
        "FP = cm_nb[0][1]\n",
        "\n",
        "print('Testing Accuracy : ',(TP + TN) / (TP + TN + FP + FN))\n",
        "print('Testing Precision : ', TP/(TP+FP))"
      ],
      "metadata": {
        "id": "Xf22Rdtb-Np4",
        "colab": {
          "base_uri": "https://localhost:8080/",
          "height": 300
        },
        "outputId": "4395eb89-5bdb-466e-d758-c787addfb3da"
      },
      "execution_count": 16,
      "outputs": [
        {
          "output_type": "stream",
          "name": "stdout",
          "text": [
            "Testing Accuracy :  0.7835497835497836\n",
            "Testing Precision :  0.8767123287671232\n"
          ]
        },
        {
          "output_type": "display_data",
          "data": {
            "text/plain": [
              "<Figure size 432x288 with 2 Axes>"
            ],
            "image/png": "[encoded data removed]"
          },
          "metadata": {
            "needs_background": "light"
          }
        }
      ]
    },
    {
      "cell_type": "markdown",
      "source": [
        "\n",
        "RANDOM FOREST CLASSIFIER"
      ],
      "metadata": {
        "id": "aCX6fua9-AsZ"
      }
    },
    {
      "cell_type": "code",
      "source": [
        "rf_model = rf.fit(X_train,y_train)\n",
        "rf_prediction = rf_model.predict(X_test)\n",
        "\n",
        "cm_rf = confusion_matrix(y_test,rf_prediction)\n",
        "\n",
        "sns.heatmap(cm_rf, annot=True, cmap = 'rocket' )\n",
        "TP = cm_rf[0][0]\n",
        "TN = cm_rf[1][1]\n",
        "FN = cm_rf[1][0]\n",
        "FP = cm_rf[0][1]\n",
        "\n",
        "print('Testing Accuracy : ',(TP + TN) / (TP + TN + FP + FN))\n",
        "print('Testing Precision : ', TP/(TP+FP))"
      ],
      "metadata": {
        "id": "tI4WgjHQ-OBV",
        "colab": {
          "base_uri": "https://localhost:8080/",
          "height": 300
        },
        "outputId": "8d2490e5-5011-42c2-bb70-f1de865b811e"
      },
      "execution_count": 17,
      "outputs": [
        {
          "output_type": "stream",
          "name": "stdout",
          "text": [
            "Testing Accuracy :  0.7922077922077922\n",
            "Testing Precision :  0.8904109589041096\n"
          ]
        },
        {
          "output_type": "display_data",
          "data": {
            "text/plain": [
              "<Figure size 432x288 with 2 Axes>"
            ],
            "image/png": "[encoded data removed]"
          },
          "metadata": {
            "needs_background": "light"
          }
        }
      ]
    },
    {
      "cell_type": "markdown",
      "source": [
        "\n",
        "\n",
        "NEURAL NETWORK"
      ],
      "metadata": {
        "id": "zkn5Cbjm-A4f"
      }
    },
    {
      "cell_type": "code",
      "source": [
        "nn_model = nn.fit(X_train,y_train)\n",
        "nn_prediction = nn_model.predict(X_test)\n",
        "\n",
        "cm_nn = confusion_matrix(y_test,nn_prediction)\n",
        "\n",
        "sns.heatmap(cm_nn, annot=True, cmap = 'rocket' )\n",
        "TP = cm_nn[0][0]\n",
        "TN = cm_nn[1][1]\n",
        "FN = cm_nn[1][0]\n",
        "FP = cm_nn[0][1]\n",
        "\n",
        "print('Testing Accuracy : ',(TP + TN) / (TP + TN + FP + FN))\n",
        "print('Testing Precision : ', TP/(TP+FP))"
      ],
      "metadata": {
        "id": "vddqI09G-OPk",
        "colab": {
          "base_uri": "https://localhost:8080/",
          "height": 428
        },
        "outputId": "55354cea-8701-4dd3-d9b1-3c3b1311f5d3"
      },
      "execution_count": 18,
      "outputs": [
        {
          "output_type": "stream",
          "name": "stderr",
          "text": [
            "/usr/local/lib/python3.7/dist-packages/sklearn/neural_network/_multilayer_perceptron.py:549: ConvergenceWarning: lbfgs failed to converge (status=1):\n",
            "STOP: TOTAL NO. of ITERATIONS REACHED LIMIT.\n",
            "\n",
            "Increase the number of iterations (max_iter) or scale the data as shown in:\n",
            "    https://scikit-learn.org/stable/modules/preprocessing.html\n",
            "  self.n_iter_ = _check_optimize_result(\"lbfgs\", opt_res, self.max_iter)\n"
          ]
        },
        {
          "output_type": "stream",
          "name": "stdout",
          "text": [
            "Testing Accuracy :  0.7748917748917749\n",
            "Testing Precision :  0.821917808219178\n"
          ]
        },
        {
          "output_type": "display_data",
          "data": {
            "text/plain": [
              "<Figure size 432x288 with 2 Axes>"
            ],
            "image/png": "[encoded data removed]"
          },
          "metadata": {
            "needs_background": "light"
          }
        }
      ]
    }
  ]
}